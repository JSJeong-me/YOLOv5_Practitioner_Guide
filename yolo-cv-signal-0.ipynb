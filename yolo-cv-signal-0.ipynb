{
  "nbformat": 4,
  "nbformat_minor": 0,
  "metadata": {
    "colab": {
      "name": "Untitled1.ipynb",
      "provenance": [],
      "machine_shape": "hm",
      "authorship_tag": "ABX9TyM12+keXYwTv/DeH4XB/sW8",
      "include_colab_link": true
    },
    "kernelspec": {
      "name": "python3",
      "display_name": "Python 3"
    },
    "language_info": {
      "name": "python"
    },
    "accelerator": "GPU"
  },
  "cells": [
    {
      "cell_type": "markdown",
      "metadata": {
        "id": "view-in-github",
        "colab_type": "text"
      },
      "source": [
        "<a href=\"https://colab.research.google.com/github/JSJeong-me/KOSA_Vision_Exercise/blob/main/yolo-cv-signal-0.ipynb\" target=\"_parent\"><img src=\"https://colab.research.google.com/assets/colab-badge.svg\" alt=\"Open In Colab\"/></a>"
      ]
    },
    {
      "cell_type": "code",
      "metadata": {
        "id": "dQoVbjLopKt9"
      },
      "source": [
        ""
      ],
      "execution_count": null,
      "outputs": []
    },
    {
      "cell_type": "code",
      "metadata": {
        "id": "xcuDginspdkA"
      },
      "source": [
        "#pip install -r https://raw.githubusercontent.com/ultralytics/yolov5/master/requirements.txt"
      ],
      "execution_count": null,
      "outputs": []
    },
    {
      "cell_type": "code",
      "metadata": {
        "id": "QV9wJjPspg5z"
      },
      "source": [
        "import torch\n",
        "\n",
        "# Model\n",
        "model = torch.hub.load('ultralytics/yolov5', 'yolov5s')\n",
        "\n",
        "# Image\n",
        "img = 'traffic-signal-0.jpg'\n",
        "\n",
        "# Inference\n",
        "results = model(img)\n"
      ],
      "execution_count": null,
      "outputs": []
    },
    {
      "cell_type": "code",
      "metadata": {
        "id": "-cNc3FuvqCk7"
      },
      "source": [
        "signals = results.pandas().xyxy[0]"
      ],
      "execution_count": null,
      "outputs": []
    },
    {
      "cell_type": "code",
      "metadata": {
        "id": "teD1osvJsjMY"
      },
      "source": [
        "signals"
      ],
      "execution_count": null,
      "outputs": []
    },
    {
      "cell_type": "code",
      "metadata": {
        "id": "aSwxKxrEqnjV"
      },
      "source": [
        "import cv2\n",
        "from google.colab.patches import cv2_imshow"
      ],
      "execution_count": null,
      "outputs": []
    },
    {
      "cell_type": "code",
      "metadata": {
        "id": "ikuAx2VnqpBq"
      },
      "source": [
        "src = cv2.imread(img)"
      ],
      "execution_count": null,
      "outputs": []
    },
    {
      "cell_type": "code",
      "metadata": {
        "id": "7Pbg36Brq6Zf"
      },
      "source": [
        "x1, y1, x2, y2 = int(signals.iloc[1,0]), int(signals.iloc[1,1]), int(signals.iloc[1,2]), int(signals.iloc[1,3])"
      ],
      "execution_count": null,
      "outputs": []
    },
    {
      "cell_type": "code",
      "metadata": {
        "id": "Dx11UCEltJHS"
      },
      "source": [
        "print(x1, y1, x2, y2)"
      ],
      "execution_count": null,
      "outputs": []
    },
    {
      "cell_type": "code",
      "metadata": {
        "id": "uk8GshAevd9Z"
      },
      "source": [
        "signal1 = src[y1:y2, x1:x2]"
      ],
      "execution_count": null,
      "outputs": []
    },
    {
      "cell_type": "code",
      "metadata": {
        "id": "o6Meues6w5V_"
      },
      "source": [
        "cv2_imshow(src)"
      ],
      "execution_count": null,
      "outputs": []
    },
    {
      "cell_type": "code",
      "metadata": {
        "id": "p2bEzxp_vy73"
      },
      "source": [
        "cv2_imshow(signal1)"
      ],
      "execution_count": null,
      "outputs": []
    },
    {
      "cell_type": "code",
      "metadata": {
        "id": "Pjtf3Gu2z0O-"
      },
      "source": [
        "#cv2.imwrite('./signal1.jpg', signal1)"
      ],
      "execution_count": null,
      "outputs": []
    },
    {
      "cell_type": "code",
      "metadata": {
        "id": "p808vCC9yVfQ"
      },
      "source": [
        "import numpy as np"
      ],
      "execution_count": null,
      "outputs": []
    },
    {
      "cell_type": "code",
      "metadata": {
        "id": "jncnP3FMxHY0"
      },
      "source": [
        "hsv_frame = cv2.cvtColor(signal1, cv2.COLOR_BGR2HSV)\n",
        "\n",
        "# Red color\n",
        "low_red = np.array([1, 220, 90]) # 161,155,84 \n",
        "high_red = np.array([179, 255, 255])\n",
        "red_mask = cv2.inRange(hsv_frame, low_red, high_red)\n",
        "red = cv2.bitwise_and(signal1, signal1, mask=red_mask)\n",
        "\n",
        "# Blue color\n",
        "low_blue = np.array([94, 80, 2])\n",
        "high_blue = np.array([126, 255, 255])\n",
        "blue_mask = cv2.inRange(hsv_frame, low_blue, high_blue)\n",
        "blue = cv2.bitwise_and(signal1, signal1, mask=blue_mask)\n",
        "\n",
        "# Green color\n",
        "low_green = np.array([25, 52, 72])\n",
        "high_green = np.array([102, 255, 255])\n",
        "green_mask = cv2.inRange(hsv_frame, low_green, high_green)\n",
        "green = cv2.bitwise_and(signal1, signal1, mask=green_mask)\n",
        "\n",
        "# Every color except white\n",
        "low = np.array([0, 42, 0])\n",
        "high = np.array([179, 255, 255])\n",
        "mask = cv2.inRange(hsv_frame, low, high)\n",
        "result = cv2.bitwise_and(signal1, signal1, mask=mask)\n",
        "\n",
        "#cv2_imshow(signal1)\n",
        "cv2_imshow(blue)\n",
        "cv2_imshow(green)\n",
        "cv2_imshow(red)\n",
        "#cv2_imshow(result)"
      ],
      "execution_count": null,
      "outputs": []
    },
    {
      "cell_type": "markdown",
      "metadata": {
        "id": "FLoqzFwRS1cD"
      },
      "source": [
        "H :0  199\n",
        "S :100  255\n",
        "V :142  221\n"
      ]
    },
    {
      "cell_type": "markdown",
      "metadata": {
        "id": "m7jjMDORUxZ3"
      },
      "source": [
        "H :0  72\n",
        "S :128  255\n",
        "V :67  255"
      ]
    },
    {
      "cell_type": "code",
      "metadata": {
        "id": "AxtVfc9zS1BE"
      },
      "source": [
        "l_h, u_h = 0,72\n",
        "l_s, u_s = 128, 255\n",
        "l_v, u_v = 67, 255\n",
        "\n",
        "l_red = np.array([l_h, l_s, l_v])\n",
        "u_red = np.array([u_h, u_s, u_v])"
      ],
      "execution_count": null,
      "outputs": []
    },
    {
      "cell_type": "code",
      "metadata": {
        "id": "8J_IktPqTLps"
      },
      "source": [
        "red_mask = cv2.inRange(hsv_frame, l_red, u_red)\n",
        "red = cv2.bitwise_and(signal1, signal1, mask=red_mask)"
      ],
      "execution_count": null,
      "outputs": []
    },
    {
      "cell_type": "code",
      "metadata": {
        "id": "wt_tBNjqTeRF"
      },
      "source": [
        "cv2_imshow(red)"
      ],
      "execution_count": null,
      "outputs": []
    }
  ]
}